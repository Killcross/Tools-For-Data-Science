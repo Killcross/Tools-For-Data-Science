{
 "cells": [
  {
   "cell_type": "markdown",
   "id": "09c7e996-9495-42df-aaed-6fd8d057c561",
   "metadata": {},
   "source": [
    "# Data Science Tools and Ecosystem"
   ]
  },
  {
   "cell_type": "markdown",
   "id": "92920244-4fb1-4070-bf34-91ee3aff913d",
   "metadata": {
    "tags": []
   },
   "source": [
    "## In this notebook, Data Science Tools and Ecosystem are summarized"
   ]
  },
  {
   "cell_type": "markdown",
   "id": "a90509a6-7271-4e68-949b-f50f02d0be0b",
   "metadata": {},
   "source": [
    "### Some of the popular languages Data Scientists use are:\n",
    "- Julia\n",
    "- R\n",
    "- Python"
   ]
  },
  {
   "cell_type": "markdown",
   "id": "346df297-3651-4d4d-8fd8-b35b139c848f",
   "metadata": {},
   "source": [
    "### Some of the commonly used libraries used by Data Scientists include:\n",
    "- scikit-learn\n",
    "- TensorFlow\n",
    "- PyTorch\n",
    "- There are many more...These are just the ones off the top of my head"
   ]
  },
  {
   "cell_type": "markdown",
   "id": "840a7865-3d5c-483c-b731-4741a1ff68aa",
   "metadata": {},
   "source": [
    "### Data Science Tools\n",
    "- Programming languages, themselves (Python, R, Julia)\n",
    "- Machine learning tools (TensorFlow, Apache Mahout, Watson Studio)\n",
    "- Data Vizualization tools (Matplotlib, Seaborn, geoplotlib)\n",
    "- Again, there are many more, these are just ones that I'm familiar with"
   ]
  },
  {
   "cell_type": "markdown",
   "id": "76212302-5d9f-4b96-8835-081cb772d4af",
   "metadata": {},
   "source": [
    "### Below are a few examples of evaluating arithmetic expressions in Python\n",
    "print(5 + 5)\n",
    "\n",
    "print(10 + 10)\n"
   ]
  },
  {
   "cell_type": "code",
   "execution_count": 3,
   "id": "351b7148-fc37-40b3-93b7-a6f005b3eec4",
   "metadata": {},
   "outputs": [
    {
     "name": "stdout",
     "output_type": "stream",
     "text": [
      "17\n"
     ]
    }
   ],
   "source": [
    "#This is a simple arithmatic expression to multiply then add integers\n",
    "\n",
    "def arithmatic(a, b, c):\n",
    "    solution = (a * b) + c\n",
    "    return solution\n",
    "print(arithmatic(3, 4, 5))"
   ]
  },
  {
   "cell_type": "code",
   "execution_count": 6,
   "id": "70da3ff0-7360-4f05-b971-5b4697855103",
   "metadata": {},
   "outputs": [
    {
     "name": "stdout",
     "output_type": "stream",
     "text": [
      "3.33\n"
     ]
    }
   ],
   "source": [
    "#This will convert minutes into hours\n",
    "def hours_conv(minutes):\n",
    "    hours = minutes/60\n",
    "    return hours\n",
    "print(round(hours_conv(200), 2))\n"
   ]
  },
  {
   "cell_type": "markdown",
   "id": "3f0586a0-8e5e-46f2-a0ff-95ecf60f8d4b",
   "metadata": {},
   "source": [
    "### Objectives:\n",
    "I'm not sure what the objectives are here, but this is how I would list them:\n",
    "\n",
    "- List popular languages for Data Science: \n",
    "    - Python\n",
    "    - R\n",
    "    - Julia\n",
    "- List popular libraries for Data Science: \n",
    "    - PyTorch\n",
    "    - TensorFlow\n",
    "    - Watson Catalog\n"
   ]
  },
  {
   "cell_type": "markdown",
   "id": "87767d4d-da8d-4494-9bb2-7f36b0be6147",
   "metadata": {},
   "source": [
    "## Author's Name\n",
    "Ryan"
   ]
  },
  {
   "cell_type": "code",
   "execution_count": null,
   "id": "97d3cc3a-e3f2-40d0-b39d-2c92da9e51aa",
   "metadata": {},
   "outputs": [],
   "source": []
  }
 ],
 "metadata": {
  "kernelspec": {
   "display_name": "Python",
   "language": "python",
   "name": "conda-env-python-py"
  },
  "language_info": {
   "codemirror_mode": {
    "name": "ipython",
    "version": 3
   },
   "file_extension": ".py",
   "mimetype": "text/x-python",
   "name": "python",
   "nbconvert_exporter": "python",
   "pygments_lexer": "ipython3",
   "version": "3.7.12"
  }
 },
 "nbformat": 4,
 "nbformat_minor": 5
}
